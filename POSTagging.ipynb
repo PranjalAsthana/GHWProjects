{
  "nbformat": 4,
  "nbformat_minor": 0,
  "metadata": {
    "colab": {
      "provenance": [],
      "authorship_tag": "ABX9TyO6b9fBeDpiLm70GsAJ0xja",
      "include_colab_link": true
    },
    "kernelspec": {
      "name": "python3",
      "display_name": "Python 3"
    },
    "language_info": {
      "name": "python"
    }
  },
  "cells": [
    {
      "cell_type": "markdown",
      "metadata": {
        "id": "view-in-github",
        "colab_type": "text"
      },
      "source": [
        "<a href=\"https://colab.research.google.com/github/PranjalAsthana/GHWProjects/blob/main/POSTagging.ipynb\" target=\"_parent\"><img src=\"https://colab.research.google.com/assets/colab-badge.svg\" alt=\"Open In Colab\"/></a>"
      ]
    },
    {
      "cell_type": "code",
      "execution_count": null,
      "metadata": {
        "colab": {
          "base_uri": "https://localhost:8080/"
        },
        "id": "JhGj3Un87993",
        "outputId": "7d458e75-5740-4f38-c840-86ad76015a0f"
      },
      "outputs": [
        {
          "output_type": "stream",
          "name": "stderr",
          "text": [
            "[nltk_data] Downloading package punkt to /root/nltk_data...\n",
            "[nltk_data]   Unzipping tokenizers/punkt.zip.\n"
          ]
        },
        {
          "output_type": "stream",
          "name": "stdout",
          "text": [
            "Original Text: The sun dipped below the horizon, casting a warm glow over the tranquil lake.         Birds chirped their evening songs as the gentle breeze rustled through the leaves of the surrounding trees.         In the distance, the silhouette of a lone fisherman could be seen, patiently waiting for a nibble on his line.\n",
            "Tokenized Text: ['The', 'sun', 'dipped', 'below', 'the', 'horizon', ',', 'casting', 'a', 'warm', 'glow', 'over', 'the', 'tranquil', 'lake', '.', 'Birds', 'chirped', 'their', 'evening', 'songs', 'as', 'the', 'gentle', 'breeze', 'rustled', 'through', 'the', 'leaves', 'of', 'the', 'surrounding', 'trees', '.', 'In', 'the', 'distance', ',', 'the', 'silhouette', 'of', 'a', 'lone', 'fisherman', 'could', 'be', 'seen', ',', 'patiently', 'waiting', 'for', 'a', 'nibble', 'on', 'his', 'line', '.']\n",
            "Porter Stemmed Text: ['the', 'sun', 'dip', 'below', 'the', 'horizon', ',', 'cast', 'a', 'warm', 'glow', 'over', 'the', 'tranquil', 'lake', '.', 'bird', 'chirp', 'their', 'even', 'song', 'as', 'the', 'gentl', 'breez', 'rustl', 'through', 'the', 'leav', 'of', 'the', 'surround', 'tree', '.', 'in', 'the', 'distanc', ',', 'the', 'silhouett', 'of', 'a', 'lone', 'fisherman', 'could', 'be', 'seen', ',', 'patient', 'wait', 'for', 'a', 'nibbl', 'on', 'hi', 'line', '.']\n"
          ]
        }
      ],
      "source": [
        "import nltk\n",
        "from nltk.tokenize import word_tokenize\n",
        "from nltk.stem import PorterStemmer\n",
        "nltk.download('punkt')\n",
        "text = \"The sun dipped below the horizon, casting a warm glow over the tranquil lake. \\\n",
        "        Birds chirped their evening songs as the gentle breeze rustled through the leaves of the surrounding trees. \\\n",
        "        In the distance, the silhouette of a lone fisherman could be seen, patiently waiting for a nibble on his line.\"\n",
        "\n",
        "tokens = word_tokenize(text)\n",
        "porter = PorterStemmer()\n",
        "stemmed_words = [porter.stem(word) for word in tokens]\n",
        "#t\n",
        "\n",
        "print(\"Original Text:\", text)\n",
        "print(\"Tokenized Text:\", tokens)\n",
        "print(\"Porter Stemmed Text:\", stemmed_words)"
      ]
    },
    {
      "cell_type": "code",
      "source": [
        "from nltk.stem import LancasterStemmer\n",
        "\n",
        "lancaster = LancasterStemmer()\n",
        "stemmed_words = [lancaster.stem(word) for word in tokens]\n",
        "\n",
        "print(\"Original Text:\", text)\n",
        "print(\"Tokenized Text:\", tokens)\n",
        "print(\"Lancaster Stemmed Text:\", stemmed_words)"
      ],
      "metadata": {
        "colab": {
          "base_uri": "https://localhost:8080/"
        },
        "id": "uuwgxHjo8bAf",
        "outputId": "2b1992e0-2cf0-4de9-c77d-e97ddc0421fc"
      },
      "execution_count": null,
      "outputs": [
        {
          "output_type": "stream",
          "name": "stdout",
          "text": [
            "Original Text: The sun dipped below the horizon, casting a warm glow over the tranquil lake.         Birds chirped their evening songs as the gentle breeze rustled through the leaves of the surrounding trees.         In the distance, the silhouette of a lone fisherman could be seen, patiently waiting for a nibble on his line.\n",
            "Tokenized Text: ['The', 'sun', 'dipped', 'below', 'the', 'horizon', ',', 'casting', 'a', 'warm', 'glow', 'over', 'the', 'tranquil', 'lake', '.', 'Birds', 'chirped', 'their', 'evening', 'songs', 'as', 'the', 'gentle', 'breeze', 'rustled', 'through', 'the', 'leaves', 'of', 'the', 'surrounding', 'trees', '.', 'In', 'the', 'distance', ',', 'the', 'silhouette', 'of', 'a', 'lone', 'fisherman', 'could', 'be', 'seen', ',', 'patiently', 'waiting', 'for', 'a', 'nibble', 'on', 'his', 'line', '.']\n",
            "Lancaster Stemmed Text: ['the', 'sun', 'dip', 'below', 'the', 'horizon', ',', 'cast', 'a', 'warm', 'glow', 'ov', 'the', 'tranquil', 'lak', '.', 'bird', 'chirp', 'their', 'ev', 'song', 'as', 'the', 'gentl', 'breez', 'rustl', 'through', 'the', 'leav', 'of', 'the', 'surround', 'tre', '.', 'in', 'the', 'dist', ',', 'the', 'silhouet', 'of', 'a', 'lon', 'fisherm', 'could', 'be', 'seen', ',', 'paty', 'wait', 'for', 'a', 'nibbl', 'on', 'his', 'lin', '.']\n"
          ]
        }
      ]
    },
    {
      "cell_type": "code",
      "source": [
        "nltk.download('averaged_perceptron_tagger')"
      ],
      "metadata": {
        "colab": {
          "base_uri": "https://localhost:8080/"
        },
        "id": "KLbd_Ap7-ZNx",
        "outputId": "796a30f0-eb18-4bcd-e7ea-fbcb7ddb58e0"
      },
      "execution_count": null,
      "outputs": [
        {
          "output_type": "stream",
          "name": "stderr",
          "text": [
            "[nltk_data] Downloading package averaged_perceptron_tagger to\n",
            "[nltk_data]     /root/nltk_data...\n",
            "[nltk_data]   Unzipping taggers/averaged_perceptron_tagger.zip.\n"
          ]
        },
        {
          "output_type": "execute_result",
          "data": {
            "text/plain": [
              "True"
            ]
          },
          "metadata": {},
          "execution_count": 5
        }
      ]
    },
    {
      "cell_type": "code",
      "source": [
        "from nltk.util import ngrams\n",
        "tagged_tokens = nltk.pos_tag(tokens)\n",
        "n = 3\n",
        "n_grams = list(ngrams(tagged_tokens, n))\n",
        "\n",
        "print(\"Original Text:\", text)\n",
        "print(\"Tokenized Text:\", tokens)\n",
        "print(\"Tagged Tokens:\", tagged_tokens)\n",
        "print(f\"{n}-grams:\", n_grams)"
      ],
      "metadata": {
        "colab": {
          "base_uri": "https://localhost:8080/"
        },
        "id": "BWTWyhbh8bjl",
        "outputId": "3b87b410-a8f8-49d9-ea4d-707d0e0af067"
      },
      "execution_count": null,
      "outputs": [
        {
          "output_type": "stream",
          "name": "stdout",
          "text": [
            "Original Text: The sun dipped below the horizon, casting a warm glow over the tranquil lake.         Birds chirped their evening songs as the gentle breeze rustled through the leaves of the surrounding trees.         In the distance, the silhouette of a lone fisherman could be seen, patiently waiting for a nibble on his line.\n",
            "Tokenized Text: ['The', 'sun', 'dipped', 'below', 'the', 'horizon', ',', 'casting', 'a', 'warm', 'glow', 'over', 'the', 'tranquil', 'lake', '.', 'Birds', 'chirped', 'their', 'evening', 'songs', 'as', 'the', 'gentle', 'breeze', 'rustled', 'through', 'the', 'leaves', 'of', 'the', 'surrounding', 'trees', '.', 'In', 'the', 'distance', ',', 'the', 'silhouette', 'of', 'a', 'lone', 'fisherman', 'could', 'be', 'seen', ',', 'patiently', 'waiting', 'for', 'a', 'nibble', 'on', 'his', 'line', '.']\n",
            "Tagged Tokens: [('The', 'DT'), ('sun', 'NN'), ('dipped', 'VBD'), ('below', 'IN'), ('the', 'DT'), ('horizon', 'NN'), (',', ','), ('casting', 'VBG'), ('a', 'DT'), ('warm', 'JJ'), ('glow', 'NN'), ('over', 'IN'), ('the', 'DT'), ('tranquil', 'JJ'), ('lake', 'NN'), ('.', '.'), ('Birds', 'NNS'), ('chirped', 'VBD'), ('their', 'PRP$'), ('evening', 'JJ'), ('songs', 'NNS'), ('as', 'IN'), ('the', 'DT'), ('gentle', 'NN'), ('breeze', 'NN'), ('rustled', 'VBD'), ('through', 'IN'), ('the', 'DT'), ('leaves', 'NNS'), ('of', 'IN'), ('the', 'DT'), ('surrounding', 'VBG'), ('trees', 'NNS'), ('.', '.'), ('In', 'IN'), ('the', 'DT'), ('distance', 'NN'), (',', ','), ('the', 'DT'), ('silhouette', 'NN'), ('of', 'IN'), ('a', 'DT'), ('lone', 'NN'), ('fisherman', 'NN'), ('could', 'MD'), ('be', 'VB'), ('seen', 'VBN'), (',', ','), ('patiently', 'RB'), ('waiting', 'VBG'), ('for', 'IN'), ('a', 'DT'), ('nibble', 'JJ'), ('on', 'IN'), ('his', 'PRP$'), ('line', 'NN'), ('.', '.')]\n",
            "3-grams: [(('The', 'DT'), ('sun', 'NN'), ('dipped', 'VBD')), (('sun', 'NN'), ('dipped', 'VBD'), ('below', 'IN')), (('dipped', 'VBD'), ('below', 'IN'), ('the', 'DT')), (('below', 'IN'), ('the', 'DT'), ('horizon', 'NN')), (('the', 'DT'), ('horizon', 'NN'), (',', ',')), (('horizon', 'NN'), (',', ','), ('casting', 'VBG')), ((',', ','), ('casting', 'VBG'), ('a', 'DT')), (('casting', 'VBG'), ('a', 'DT'), ('warm', 'JJ')), (('a', 'DT'), ('warm', 'JJ'), ('glow', 'NN')), (('warm', 'JJ'), ('glow', 'NN'), ('over', 'IN')), (('glow', 'NN'), ('over', 'IN'), ('the', 'DT')), (('over', 'IN'), ('the', 'DT'), ('tranquil', 'JJ')), (('the', 'DT'), ('tranquil', 'JJ'), ('lake', 'NN')), (('tranquil', 'JJ'), ('lake', 'NN'), ('.', '.')), (('lake', 'NN'), ('.', '.'), ('Birds', 'NNS')), (('.', '.'), ('Birds', 'NNS'), ('chirped', 'VBD')), (('Birds', 'NNS'), ('chirped', 'VBD'), ('their', 'PRP$')), (('chirped', 'VBD'), ('their', 'PRP$'), ('evening', 'JJ')), (('their', 'PRP$'), ('evening', 'JJ'), ('songs', 'NNS')), (('evening', 'JJ'), ('songs', 'NNS'), ('as', 'IN')), (('songs', 'NNS'), ('as', 'IN'), ('the', 'DT')), (('as', 'IN'), ('the', 'DT'), ('gentle', 'NN')), (('the', 'DT'), ('gentle', 'NN'), ('breeze', 'NN')), (('gentle', 'NN'), ('breeze', 'NN'), ('rustled', 'VBD')), (('breeze', 'NN'), ('rustled', 'VBD'), ('through', 'IN')), (('rustled', 'VBD'), ('through', 'IN'), ('the', 'DT')), (('through', 'IN'), ('the', 'DT'), ('leaves', 'NNS')), (('the', 'DT'), ('leaves', 'NNS'), ('of', 'IN')), (('leaves', 'NNS'), ('of', 'IN'), ('the', 'DT')), (('of', 'IN'), ('the', 'DT'), ('surrounding', 'VBG')), (('the', 'DT'), ('surrounding', 'VBG'), ('trees', 'NNS')), (('surrounding', 'VBG'), ('trees', 'NNS'), ('.', '.')), (('trees', 'NNS'), ('.', '.'), ('In', 'IN')), (('.', '.'), ('In', 'IN'), ('the', 'DT')), (('In', 'IN'), ('the', 'DT'), ('distance', 'NN')), (('the', 'DT'), ('distance', 'NN'), (',', ',')), (('distance', 'NN'), (',', ','), ('the', 'DT')), ((',', ','), ('the', 'DT'), ('silhouette', 'NN')), (('the', 'DT'), ('silhouette', 'NN'), ('of', 'IN')), (('silhouette', 'NN'), ('of', 'IN'), ('a', 'DT')), (('of', 'IN'), ('a', 'DT'), ('lone', 'NN')), (('a', 'DT'), ('lone', 'NN'), ('fisherman', 'NN')), (('lone', 'NN'), ('fisherman', 'NN'), ('could', 'MD')), (('fisherman', 'NN'), ('could', 'MD'), ('be', 'VB')), (('could', 'MD'), ('be', 'VB'), ('seen', 'VBN')), (('be', 'VB'), ('seen', 'VBN'), (',', ',')), (('seen', 'VBN'), (',', ','), ('patiently', 'RB')), ((',', ','), ('patiently', 'RB'), ('waiting', 'VBG')), (('patiently', 'RB'), ('waiting', 'VBG'), ('for', 'IN')), (('waiting', 'VBG'), ('for', 'IN'), ('a', 'DT')), (('for', 'IN'), ('a', 'DT'), ('nibble', 'JJ')), (('a', 'DT'), ('nibble', 'JJ'), ('on', 'IN')), (('nibble', 'JJ'), ('on', 'IN'), ('his', 'PRP$')), (('on', 'IN'), ('his', 'PRP$'), ('line', 'NN')), (('his', 'PRP$'), ('line', 'NN'), ('.', '.'))]\n"
          ]
        }
      ]
    },
    {
      "cell_type": "code",
      "source": [
        "import re\n",
        "number_regex = r'\\b\\d+\\b'\n",
        "word_regex = r'\\b\\w+\\b'\n",
        "special_char_regex = r'[@#]'\n",
        "numbers = re.findall(number_regex, text)\n",
        "words = re.findall(word_regex, text)\n",
        "special_chars = re.findall(special_char_regex, text)\n",
        "\n",
        "print(\"Original Text:\", text)\n",
        "print(\"Tokens:\", tokens)\n",
        "print(\"Numbers:\", numbers)\n",
        "print(\"Words:\", words)\n",
        "print(\"Special Characters:\", special_chars)"
      ],
      "metadata": {
        "colab": {
          "base_uri": "https://localhost:8080/"
        },
        "id": "kshOaGou8bde",
        "outputId": "1ed819fa-4d9d-47c7-e2ae-310c14e3862f"
      },
      "execution_count": null,
      "outputs": [
        {
          "output_type": "stream",
          "name": "stdout",
          "text": [
            "Original Text: The sun dipped below the horizon, casting a warm glow over the tranquil lake.         Birds chirped their evening songs as the gentle breeze rustled through the leaves of the surrounding trees.         In the distance, the silhouette of a lone fisherman could be seen, patiently waiting for a nibble on his line.\n",
            "Tokens: ['The', 'sun', 'dipped', 'below', 'the', 'horizon', ',', 'casting', 'a', 'warm', 'glow', 'over', 'the', 'tranquil', 'lake', '.', 'Birds', 'chirped', 'their', 'evening', 'songs', 'as', 'the', 'gentle', 'breeze', 'rustled', 'through', 'the', 'leaves', 'of', 'the', 'surrounding', 'trees', '.', 'In', 'the', 'distance', ',', 'the', 'silhouette', 'of', 'a', 'lone', 'fisherman', 'could', 'be', 'seen', ',', 'patiently', 'waiting', 'for', 'a', 'nibble', 'on', 'his', 'line', '.']\n",
            "Numbers: []\n",
            "Words: ['The', 'sun', 'dipped', 'below', 'the', 'horizon', 'casting', 'a', 'warm', 'glow', 'over', 'the', 'tranquil', 'lake', 'Birds', 'chirped', 'their', 'evening', 'songs', 'as', 'the', 'gentle', 'breeze', 'rustled', 'through', 'the', 'leaves', 'of', 'the', 'surrounding', 'trees', 'In', 'the', 'distance', 'the', 'silhouette', 'of', 'a', 'lone', 'fisherman', 'could', 'be', 'seen', 'patiently', 'waiting', 'for', 'a', 'nibble', 'on', 'his', 'line']\n",
            "Special Characters: []\n"
          ]
        }
      ]
    },
    {
      "cell_type": "code",
      "source": [
        "from nltk.tag import brill, brill_trainer\n",
        "from nltk.tag.brill import Template, Pos, Word\n",
        "\n",
        "training_data = [\n",
        "[('This', 'DT'), ('is', 'VBZ'), ('an', 'DT'), ('example', 'NN')],\n",
        "[('I', 'PRP'), ('like', 'VBP'), ('NLTK', 'NNP')],\n",
        "[('The', 'DT'), ('cat', 'NN'), ('is', 'VBZ'), ('on', 'IN'), ('the', 'DT'), ('mat', 'NN')]\n",
        "]\n",
        "\n",
        "templates = [\n",
        "Template(Pos([-1])),\n",
        "Template(Pos([1])),\n",
        "Template(Pos([-1]), Pos([1])),\n",
        "Template(Pos([-2])),\n",
        "Template(Pos([2])),\n",
        "Template(Pos([-2]), Pos([-1])),\n",
        "Template(Pos([1]), Pos([2])),\n",
        "Template(Word([-1])),\n",
        "Template(Word([1])),\n",
        "Template(Word([-1]), Word([1])),\n",
        "]\n",
        "\n",
        "trainer = brill_trainer.BrillTaggerTrainer(initial_tagger=nltk.DefaultTagger('NN'), templates=templates, trace=3)\n",
        "brill_tagger = trainer.train(training_data, max_rules=10)\n",
        "test_sentence = [('This', ''), ('is', ''), ('a', ''), ('test', '')]\n",
        "tagged_sentence = brill_tagger.tag(test_sentence)\n",
        "print(tagged_sentence)\n"
      ],
      "metadata": {
        "colab": {
          "base_uri": "https://localhost:8080/"
        },
        "id": "9CfvEkIx_oTu",
        "outputId": "abdf8d65-c341-4cee-bccd-5c3162251b2c"
      },
      "execution_count": null,
      "outputs": [
        {
          "output_type": "stream",
          "name": "stdout",
          "text": [
            "TBL train (fast) (seqs: 3; tokens: 13; tpls: 10; min score: 2; min acc: None)\n",
            "Finding initial useful rules...\n",
            "    Found 52 useful rules.\n",
            "\n",
            "           B      |\n",
            "   S   F   r   O  |        Score = Fixed - Broken\n",
            "   c   i   o   t  |  R     Fixed = num tags changed incorrect -> correct\n",
            "   o   x   k   h  |  u     Broken = num tags changed correct -> incorrect\n",
            "   r   e   e   e  |  l     Other = num tags changed incorrect -> incorrect\n",
            "   e   d   n   r  |  e\n",
            "------------------+-------------------------------------------------------\n",
            "   3   4   1   5  | NN->DT if Pos:NN@[1]\n",
            "   2   2   0   2  | DT->VBZ if Pos:DT@[-1] & Pos:DT@[1]\n",
            "[(('This', ''), 'DT'), (('is', ''), 'VBZ'), (('a', ''), 'DT'), (('test', ''), 'NN')]\n"
          ]
        }
      ]
    },
    {
      "cell_type": "code",
      "source": [
        "nltk.download('punkt')\n",
        "nltk.download('averaged_perceptron_tagger')\n",
        "nltk.download('maxent_ne_chunker')\n",
        "nltk.download('words')\n",
        "ner_tagged_text = nltk.ne_chunk(nltk.pos_tag(word_tokenize(text)), binary=False)\n",
        "print(ner_tagged_text)"
      ],
      "metadata": {
        "colab": {
          "base_uri": "https://localhost:8080/"
        },
        "id": "Ai-RuRZg_oQ-",
        "outputId": "c3af701e-421d-449c-9bed-4df3e9644e9d"
      },
      "execution_count": null,
      "outputs": [
        {
          "output_type": "stream",
          "name": "stderr",
          "text": [
            "[nltk_data] Downloading package punkt to /root/nltk_data...\n",
            "[nltk_data]   Package punkt is already up-to-date!\n",
            "[nltk_data] Downloading package averaged_perceptron_tagger to\n",
            "[nltk_data]     /root/nltk_data...\n",
            "[nltk_data]   Package averaged_perceptron_tagger is already up-to-\n",
            "[nltk_data]       date!\n",
            "[nltk_data] Downloading package maxent_ne_chunker to\n",
            "[nltk_data]     /root/nltk_data...\n",
            "[nltk_data]   Unzipping chunkers/maxent_ne_chunker.zip.\n",
            "[nltk_data] Downloading package words to /root/nltk_data...\n"
          ]
        },
        {
          "output_type": "stream",
          "name": "stdout",
          "text": [
            "(S\n",
            "  The/DT\n",
            "  sun/NN\n",
            "  dipped/VBD\n",
            "  below/IN\n",
            "  the/DT\n",
            "  horizon/NN\n",
            "  ,/,\n",
            "  casting/VBG\n",
            "  a/DT\n",
            "  warm/JJ\n",
            "  glow/NN\n",
            "  over/IN\n",
            "  the/DT\n",
            "  tranquil/JJ\n",
            "  lake/NN\n",
            "  ./.\n",
            "  (PERSON Birds/NNS)\n",
            "  chirped/VBD\n",
            "  their/PRP$\n",
            "  evening/JJ\n",
            "  songs/NNS\n",
            "  as/IN\n",
            "  the/DT\n",
            "  gentle/NN\n",
            "  breeze/NN\n",
            "  rustled/VBD\n",
            "  through/IN\n",
            "  the/DT\n",
            "  leaves/NNS\n",
            "  of/IN\n",
            "  the/DT\n",
            "  surrounding/VBG\n",
            "  trees/NNS\n",
            "  ./.\n",
            "  In/IN\n",
            "  the/DT\n",
            "  distance/NN\n",
            "  ,/,\n",
            "  the/DT\n",
            "  silhouette/NN\n",
            "  of/IN\n",
            "  a/DT\n",
            "  lone/NN\n",
            "  fisherman/NN\n",
            "  could/MD\n",
            "  be/VB\n",
            "  seen/VBN\n",
            "  ,/,\n",
            "  patiently/RB\n",
            "  waiting/VBG\n",
            "  for/IN\n",
            "  a/DT\n",
            "  nibble/JJ\n",
            "  on/IN\n",
            "  his/PRP$\n",
            "  line/NN\n",
            "  ./.)\n"
          ]
        },
        {
          "output_type": "stream",
          "name": "stderr",
          "text": [
            "[nltk_data]   Unzipping corpora/words.zip.\n"
          ]
        }
      ]
    },
    {
      "cell_type": "code",
      "source": [
        "from nltk.tag import RegexpTagger\n",
        "date_regex = RegexpTagger([(r'(\\d{2})[/.-](\\d{2})[/.-](\\d{4})$','DATE'),(r'\\$','MONEY')])\n",
        "test_tokens = \"I will be flying on sat 10-02-2014 with around 10M $ \".split()\n",
        "print(date_regex.tag(test_tokens))"
      ],
      "metadata": {
        "colab": {
          "base_uri": "https://localhost:8080/"
        },
        "id": "RYTtZHjz_oIO",
        "outputId": "7a43cc9e-a71b-46dd-b123-222295b60e26"
      },
      "execution_count": null,
      "outputs": [
        {
          "output_type": "stream",
          "name": "stdout",
          "text": [
            "[('I', None), ('will', None), ('be', None), ('flying', None), ('on', None), ('sat', None), ('10-02-2014', 'DATE'), ('with', None), ('around', None), ('10M', None), ('$', 'MONEY')]\n"
          ]
        }
      ]
    },
    {
      "cell_type": "code",
      "source": [
        "from nltk.tag import AffixTagger\n",
        "from nltk.corpus import treebank\n",
        "\n",
        "nltk.download('treebank')\n",
        "train_data = treebank.tagged_sents()[:3000]\n",
        "affix_tagger = AffixTagger(train_data)\n",
        "test_sentence = \"This is a sample sentence.\"\n",
        "tagged_sentence = affix_tagger.tag(nltk.word_tokenize(test_sentence))\n",
        "\n",
        "print(\"Tagged Sentence:\", tagged_sentence)"
      ],
      "metadata": {
        "colab": {
          "base_uri": "https://localhost:8080/"
        },
        "id": "Z6ZKNpKuCFAO",
        "outputId": "8b0fd3a0-0603-44ff-dc99-4d18a659d3c4"
      },
      "execution_count": null,
      "outputs": [
        {
          "output_type": "stream",
          "name": "stderr",
          "text": [
            "[nltk_data] Downloading package treebank to /root/nltk_data...\n",
            "[nltk_data]   Unzipping corpora/treebank.zip.\n"
          ]
        },
        {
          "output_type": "stream",
          "name": "stdout",
          "text": [
            "Tagged Sentence: [('This', None), ('is', None), ('a', None), ('sample', 'NNS'), ('sentence', 'NN'), ('.', None)]\n"
          ]
        }
      ]
    },
    {
      "cell_type": "code",
      "source": [
        "from nltk.corpus import brown\n",
        "from nltk.tag import UnigramTagger, DefaultTagger, BigramTagger, TrigramTagger\n",
        "\n",
        "nltk.download('brown')\n",
        "brown_tagged_sents = brown.tagged_sents()\n",
        "train_data = brown_tagged_sents[:int(len(brown_tagged_sents) * 0.9)]\n",
        "test_data = brown_tagged_sents[int(len(brown_tagged_sents) * 0.9):]\n",
        "default_tagger = DefaultTagger('NN')\n",
        "\n",
        "unigram_tagger = UnigramTagger(train_data, backoff=default_tagger)\n",
        "print(\"Unigram Tagger Evaluation:\", unigram_tagger.evaluate(test_data))\n",
        "\n",
        "bigram_tagger = BigramTagger(train_data, backoff=unigram_tagger)\n",
        "print(\"Bigram Tagger Evaluation:\", bigram_tagger.evaluate(test_data))\n",
        "\n",
        "trigram_tagger = TrigramTagger(train_data, backoff=bigram_tagger)\n",
        "print(\"Trigram Tagger Evaluation:\", trigram_tagger.evaluate(test_data))"
      ],
      "metadata": {
        "colab": {
          "base_uri": "https://localhost:8080/"
        },
        "id": "PqLwPBVm_oGG",
        "outputId": "f7b58af5-0d39-4190-b654-39bc75090237"
      },
      "execution_count": null,
      "outputs": [
        {
          "output_type": "stream",
          "name": "stderr",
          "text": [
            "[nltk_data] Downloading package brown to /root/nltk_data...\n",
            "[nltk_data]   Unzipping corpora/brown.zip.\n",
            "<ipython-input-11-47b0a8b9823b>:11: DeprecationWarning: \n",
            "  Function evaluate() has been deprecated.  Use accuracy(gold)\n",
            "  instead.\n",
            "  print(\"Unigram Tagger Evaluation:\", unigram_tagger.evaluate(test_data))\n"
          ]
        },
        {
          "output_type": "stream",
          "name": "stdout",
          "text": [
            "Unigram Tagger Evaluation: 0.8912742817627459\n"
          ]
        },
        {
          "output_type": "stream",
          "name": "stderr",
          "text": [
            "<ipython-input-11-47b0a8b9823b>:14: DeprecationWarning: \n",
            "  Function evaluate() has been deprecated.  Use accuracy(gold)\n",
            "  instead.\n",
            "  print(\"Bigram Tagger Evaluation:\", bigram_tagger.evaluate(test_data))\n"
          ]
        },
        {
          "output_type": "stream",
          "name": "stdout",
          "text": [
            "Bigram Tagger Evaluation: 0.9125751765470128\n"
          ]
        },
        {
          "output_type": "stream",
          "name": "stderr",
          "text": [
            "<ipython-input-11-47b0a8b9823b>:17: DeprecationWarning: \n",
            "  Function evaluate() has been deprecated.  Use accuracy(gold)\n",
            "  instead.\n",
            "  print(\"Trigram Tagger Evaluation:\", trigram_tagger.evaluate(test_data))\n"
          ]
        },
        {
          "output_type": "stream",
          "name": "stdout",
          "text": [
            "Trigram Tagger Evaluation: 0.9130466670857693\n"
          ]
        }
      ]
    }
  ]
}